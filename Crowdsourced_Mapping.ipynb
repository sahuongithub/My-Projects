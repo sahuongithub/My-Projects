{
  "cells": [
    {
      "cell_type": "markdown",
      "metadata": {
        "id": "view-in-github",
        "colab_type": "text"
      },
      "source": [
        "<a href=\"https://colab.research.google.com/github/sahuongithub/My-Projects/blob/main/Crowdsourced_Mapping.ipynb\" target=\"_parent\"><img src=\"https://colab.research.google.com/assets/colab-badge.svg\" alt=\"Open In Colab\"/></a>"
      ]
    },
    {
      "cell_type": "code",
      "source": [
        "import pandas as pd\n",
        "from sklearn.model_selection import train_test_split\n",
        "from sklearn.preprocessing import LabelEncoder\n",
        "from sklearn.tree import DecisionTreeClassifier\n",
        "from sklearn.neighbors import KNeighborsClassifier\n",
        "from sklearn.svm import SVC\n",
        "from sklearn.metrics import accuracy_score, precision_score, recall_score, f1_score\n",
        "\n",
        "# Load dataset\n",
        "df = pd.read_csv('/content/CrowdSourced.csv')\n",
        "\n",
        "# Replace null values with the mode of the respective column\n",
        "df = df.fillna(df.mode().iloc[0])\n",
        "\n",
        "# Split dataset into features and target variable\n",
        "X = df.drop('Land_Class', axis=1)\n",
        "y = df['Land_Class']\n",
        "\n",
        "# Encode categorical variables\n",
        "le = LabelEncoder()\n",
        "for column in X.columns:\n",
        "    if X[column].dtype == type(object):\n",
        "        X[column] = le.fit_transform(X[column].astype(str))\n",
        "\n",
        "# Split dataset into training and testing sets\n",
        "X_train, X_test, y_train, y_test = train_test_split(X, y, test_size=0.3, random_state=42)\n",
        "\n",
        "# Build Decision Tree model\n",
        "dt = DecisionTreeClassifier()\n",
        "dt.fit(X_train, y_train)\n",
        "y_pred_dt = dt.predict(X_test)\n",
        "\n",
        "# Build K-nearest neighbors model\n",
        "knn = KNeighborsClassifier()\n",
        "knn.fit(X_train, y_train)\n",
        "y_pred_knn = knn.predict(X_test)\n",
        "\n",
        "# Build SVM model\n",
        "svm = SVC()\n",
        "svm.fit(X_train, y_train)\n",
        "y_pred_svm = svm.predict(X_test)\n",
        "\n",
        "# Evaluate model performance\n",
        "print('Decision Tree')\n",
        "print('Accuracy:', accuracy_score(y_test, y_pred_dt))\n",
        "print('Precision:', precision_score(y_test, y_pred_dt, average='weighted'))\n",
        "print('Recall:', recall_score(y_test, y_pred_dt, average='weighted'))\n",
        "print('F1-score:', f1_score(y_test, y_pred_dt, average='weighted'))\n",
        "print('')\n",
        "\n",
        "print('K-nearest neighbors')\n",
        "print('Accuracy:', accuracy_score(y_test, y_pred_knn))\n",
        "print('Precision:', precision_score(y_test, y_pred_knn, average='weighted'))\n",
        "print('Recall:', recall_score(y_test, y_pred_knn, average='weighted'))\n",
        "print('F1-score:', f1_score(y_test, y_pred_knn, average='weighted'))\n",
        "print('')\n",
        "\n",
        "print('SVM')\n",
        "print('Accuracy:', accuracy_score(y_test, y_pred_svm))\n",
        "print('Precision:', precision_score(y_test, y_pred_svm, average='weighted'))\n",
        "print('Recall:', recall_score(y_test, y_pred_svm, average='weighted'))\n",
        "print('F1-score:', f1_score(y_test, y_pred_svm, average='weighted'))\n"
      ],
      "metadata": {
        "id": "M70SKoo3uMMq",
        "outputId": "0c3cf7d4-dab1-495f-93f8-3dfab254e80f",
        "colab": {
          "base_uri": "https://localhost:8080/"
        }
      },
      "execution_count": 15,
      "outputs": [
        {
          "output_type": "stream",
          "name": "stdout",
          "text": [
            "Decision Tree\n",
            "Accuracy: 0.9633333333333334\n",
            "Precision: 0.9647706042728167\n",
            "Recall: 0.9633333333333334\n",
            "F1-score: 0.9631866773258586\n",
            "\n",
            "K-nearest neighbors\n",
            "Accuracy: 0.7466666666666667\n",
            "Precision: 0.6313610108303249\n",
            "Recall: 0.7466666666666667\n",
            "F1-score: 0.6782610907610908\n",
            "\n",
            "SVM\n",
            "Accuracy: 0.7566666666666667\n",
            "Precision: 0.5725444444444445\n",
            "Recall: 0.7566666666666667\n",
            "F1-score: 0.6518532574320051\n"
          ]
        },
        {
          "output_type": "stream",
          "name": "stderr",
          "text": [
            "/usr/local/lib/python3.10/dist-packages/sklearn/metrics/_classification.py:1344: UndefinedMetricWarning: Precision is ill-defined and being set to 0.0 in labels with no predicted samples. Use `zero_division` parameter to control this behavior.\n",
            "  _warn_prf(average, modifier, msg_start, len(result))\n",
            "/usr/local/lib/python3.10/dist-packages/sklearn/metrics/_classification.py:1344: UndefinedMetricWarning: Precision is ill-defined and being set to 0.0 in labels with no predicted samples. Use `zero_division` parameter to control this behavior.\n",
            "  _warn_prf(average, modifier, msg_start, len(result))\n"
          ]
        }
      ]
    },
    {
      "cell_type": "markdown",
      "source": [
        "**Hyperparameter Tuning for Decision Tree**"
      ],
      "metadata": {
        "id": "Kco9oNKUXT-W"
      }
    },
    {
      "cell_type": "code",
      "source": [
        "from sklearn.tree import DecisionTreeClassifier\n",
        "from sklearn.model_selection import GridSearchCV\n",
        "from sklearn.metrics import classification_report\n",
        "\n",
        "# Define the hyperparameters to be tuned\n",
        "param_grid = {'max_depth': [None, 10, 20, 30],\n",
        "              'min_samples_split': [2, 5, 10],\n",
        "              'min_samples_leaf': [1, 2, 4]}\n",
        "\n",
        "# Create a Decision Tree classifier object\n",
        "dtc = DecisionTreeClassifier(random_state=42)\n",
        "\n",
        "# Use GridSearchCV to find the best hyperparameters\n",
        "clf = GridSearchCV(dtc, param_grid, cv=5, scoring='accuracy')\n",
        "clf.fit(X_train, y_train)\n",
        "\n",
        "# Print the best hyperparameters\n",
        "print(\"Best Hyperparameters:\", clf.best_params_)\n",
        "\n",
        "# Predict using the best estimator\n",
        "y_pred = clf.best_estimator_.predict(X_test)\n",
        "\n",
        "# Print the classification report\n",
        "print(\"Classification Report:\\n\", classification_report(y_test, y_pred))\n"
      ],
      "metadata": {
        "id": "pEb5SNKWAxK9",
        "outputId": "6e36395e-5369-42b1-84c9-2465ee2a0951",
        "colab": {
          "base_uri": "https://localhost:8080/"
        }
      },
      "execution_count": 11,
      "outputs": [
        {
          "output_type": "stream",
          "name": "stderr",
          "text": [
            "/usr/local/lib/python3.10/dist-packages/sklearn/model_selection/_split.py:700: UserWarning: The least populated class in y has only 4 members, which is less than n_splits=5.\n",
            "  warnings.warn(\n"
          ]
        },
        {
          "output_type": "stream",
          "name": "stdout",
          "text": [
            "Best Hyperparameters: {'max_depth': None, 'min_samples_leaf': 1, 'min_samples_split': 2}\n",
            "Classification Report:\n",
            "               precision    recall  f1-score   support\n",
            "\n",
            "    Farmland       1.00      1.00      1.00        19\n",
            "      Forest       1.00      1.00      1.00       228\n",
            "  Industrial       1.00      1.00      1.00         3\n",
            "      Meadow       1.00      1.00      1.00         7\n",
            " Residential       1.00      1.00      1.00        14\n",
            "       Water       1.00      1.00      1.00        29\n",
            "\n",
            "    accuracy                           1.00       300\n",
            "   macro avg       1.00      1.00      1.00       300\n",
            "weighted avg       1.00      1.00      1.00       300\n",
            "\n"
          ]
        }
      ]
    },
    {
      "cell_type": "markdown",
      "source": [
        "**Hyperparameter Tuning for K-nearest neighbors**"
      ],
      "metadata": {
        "id": "_B7-07QkX5ke"
      }
    },
    {
      "cell_type": "code",
      "source": [
        "from sklearn.neighbors import KNeighborsClassifier\n",
        "from sklearn.model_selection import GridSearchCV\n",
        "from sklearn.metrics import classification_report\n",
        "\n",
        "# Define the hyperparameters to be tuned\n",
        "param_grid = {'n_neighbors': [3, 5, 7, 9],\n",
        "              'weights': ['uniform', 'distance'],\n",
        "              'metric': ['euclidean', 'manhattan']}\n",
        "\n",
        "# Create a K-nearest neighbors classifier object\n",
        "knn = KNeighborsClassifier()\n",
        "\n",
        "# Use GridSearchCV to find the best hyperparameters\n",
        "clf = GridSearchCV(knn, param_grid, cv=5, scoring='accuracy')\n",
        "clf.fit(X_train, y_train)\n",
        "\n",
        "# Print the best hyperparameters\n",
        "print(\"Best Hyperparameters:\", clf.best_params_)\n",
        "\n",
        "# Predict using the best estimator\n",
        "y_pred = clf.best_estimator_.predict(X_test)\n",
        "\n",
        "# Print the classification report\n",
        "print(\"Classification Report:\\n\", classification_report(y_test, y_pred))\n"
      ],
      "metadata": {
        "id": "ccuLPXx6A8Xo",
        "outputId": "4bd4a4e6-a1ad-4495-8788-a5acefc090f5",
        "colab": {
          "base_uri": "https://localhost:8080/"
        }
      },
      "execution_count": 12,
      "outputs": [
        {
          "output_type": "stream",
          "name": "stderr",
          "text": [
            "/usr/local/lib/python3.10/dist-packages/sklearn/model_selection/_split.py:700: UserWarning: The least populated class in y has only 4 members, which is less than n_splits=5.\n",
            "  warnings.warn(\n"
          ]
        },
        {
          "output_type": "stream",
          "name": "stdout",
          "text": [
            "Best Hyperparameters: {'metric': 'manhattan', 'n_neighbors': 7, 'weights': 'distance'}\n",
            "Classification Report:\n",
            "               precision    recall  f1-score   support\n",
            "\n",
            "    Farmland       0.50      0.21      0.30        19\n",
            "      Forest       0.79      1.00      0.88       228\n",
            "  Industrial       0.00      0.00      0.00         3\n",
            "      Meadow       0.00      0.00      0.00         7\n",
            " Residential       0.00      0.00      0.00        14\n",
            "       Water       0.50      0.03      0.06        29\n",
            "\n",
            "    accuracy                           0.77       300\n",
            "   macro avg       0.30      0.21      0.21       300\n",
            "weighted avg       0.68      0.77      0.69       300\n",
            "\n"
          ]
        },
        {
          "output_type": "stream",
          "name": "stderr",
          "text": [
            "/usr/local/lib/python3.10/dist-packages/sklearn/metrics/_classification.py:1344: UndefinedMetricWarning: Precision and F-score are ill-defined and being set to 0.0 in labels with no predicted samples. Use `zero_division` parameter to control this behavior.\n",
            "  _warn_prf(average, modifier, msg_start, len(result))\n",
            "/usr/local/lib/python3.10/dist-packages/sklearn/metrics/_classification.py:1344: UndefinedMetricWarning: Precision and F-score are ill-defined and being set to 0.0 in labels with no predicted samples. Use `zero_division` parameter to control this behavior.\n",
            "  _warn_prf(average, modifier, msg_start, len(result))\n",
            "/usr/local/lib/python3.10/dist-packages/sklearn/metrics/_classification.py:1344: UndefinedMetricWarning: Precision and F-score are ill-defined and being set to 0.0 in labels with no predicted samples. Use `zero_division` parameter to control this behavior.\n",
            "  _warn_prf(average, modifier, msg_start, len(result))\n"
          ]
        }
      ]
    },
    {
      "cell_type": "markdown",
      "source": [
        "**Hyperparameter Tuning for SVM**"
      ],
      "metadata": {
        "id": "YpSXw8B-YA1c"
      }
    },
    {
      "cell_type": "code",
      "source": [
        "from sklearn.svm import SVC\n",
        "from sklearn.model_selection import GridSearchCV\n",
        "from sklearn.metrics import classification_report\n",
        "\n",
        "# Define the hyperparameters to be tuned\n",
        "param_grid = {'C': [0.1, 1, 10],\n",
        "              'kernel': ['linear', 'rbf', 'poly', 'sigmoid'],\n",
        "              'degree': [2, 3, 4],\n",
        "              'gamma': ['scale', 'auto']}\n",
        "\n",
        "# Create a SVM classifier object\n",
        "svm = SVC()\n",
        "\n",
        "# Use GridSearchCV to find the best hyperparameters\n",
        "clf = GridSearchCV(svm, param_grid, cv=5, scoring='accuracy')\n",
        "clf.fit(X_train, y_train)\n",
        "\n",
        "# Print the best hyperparameters\n",
        "print(\"Best Hyperparameters:\", clf.best_params_)\n",
        "\n",
        "# Predict using the best estimator\n",
        "y_pred = clf.best_estimator_.predict(X_test)\n",
        "\n",
        "# Print the classification report\n",
        "print(\"Classification Report:\\n\", classification_report(y_test, y_pred))"
      ],
      "metadata": {
        "id": "widXEmGpZjqr"
      },
      "execution_count": null,
      "outputs": []
    }
  ],
  "metadata": {
    "colab": {
      "name": "Welcome to Colaboratory",
      "provenance": [],
      "include_colab_link": true
    },
    "kernelspec": {
      "display_name": "Python 3",
      "name": "python3"
    }
  },
  "nbformat": 4,
  "nbformat_minor": 0
}